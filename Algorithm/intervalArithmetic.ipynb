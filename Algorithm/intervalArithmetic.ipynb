{
  "nbformat": 4,
  "nbformat_minor": 0,
  "metadata": {
    "colab": {
      "provenance": [],
      "collapsed_sections": []
    },
    "kernelspec": {
      "name": "python3",
      "display_name": "Python 3"
    },
    "language_info": {
      "name": "python"
    }
  },
  "cells": [
    {
      "cell_type": "code",
      "metadata": {
        "colab": {
          "base_uri": "https://localhost:8080/"
        },
        "id": "wcpkz1l-giwf",
        "outputId": "3f6b77a0-9e42-4777-bf76-14444a3fbf9a"
      },
      "source": [
        "from google.colab import drive\n",
        "drive.mount('/content/gdrive')"
      ],
      "execution_count": null,
      "outputs": [
        {
          "output_type": "stream",
          "name": "stdout",
          "text": [
            "Mounted at /content/gdrive\n"
          ]
        }
      ]
    },
    {
      "cell_type": "code",
      "metadata": {
        "id": "AnU7gypiigCN"
      },
      "source": [
        "import glob\n",
        "import pandas\n",
        "import csv\n",
        "import numpy as np\n"
      ],
      "execution_count": null,
      "outputs": []
    },
    {
      "cell_type": "markdown",
      "source": [
        "# Aritmética Intervalar:"
      ],
      "metadata": {
        "id": "RBGiRFLpMY3F"
      }
    },
    {
      "cell_type": "code",
      "metadata": {
        "id": "UHLbagzR9VHW"
      },
      "source": [
        "\n",
        "with open(\"/content/gdrive/MyDrive/NaCl/AritmeticaIntervalarTodos.csv\", \"w\", newline='') as f:\n",
        "    writer = csv.writer(f, delimiter=',')\n",
        "\n",
        "    cabecalho = ['Min', 'Med', 'Max', 'Class']\n",
        "    writer = csv.DictWriter(f, fieldnames=cabecalho) \n",
        "    writer.writeheader()\n",
        "    \n",
        "     \n",
        "    for fileName in glob.glob(\"/content/gdrive/MyDrive/NaCl/plantas/p*an.txt\"): \n",
        "        print(fileName)\n",
        "        openFile = open(fileName, 'r')\n",
        "        points = openFile.readlines()\n",
        "        np.array(points).astype(np.float)\n",
        "        usePoints = []\n",
        "        \n",
        "        for point in points:\n",
        "          usePoints.append(float(point))\n",
        "          if (len(usePoints) == 30000):\n",
        "            \n",
        "            result = []\n",
        "            result.append(np.min(usePoints))\n",
        "            result.append(np.mean(usePoints))\n",
        "            result.append(np.max(usePoints))\n",
        "            \n",
        "            result.append(0)\n",
        "            #print(result)\n",
        "            writer.writerow({'Min': result[0], 'Med': result[1], 'Max': result[2], 'Class': result[3]})\n",
        "            usePoints = []\n",
        "\n",
        "    \n",
        "    for fileName in glob.glob(\"/content/gdrive/MyDrive/NaCl/plantas/p*dep.txt\"): \n",
        "        print(fileName)\n",
        "        openFile = open(fileName, 'r')\n",
        "        points = openFile.readlines()\n",
        "        np.array(points).astype(np.float)\n",
        "        usePoints = []\n",
        "        \n",
        "        for point in points:\n",
        "          usePoints.append(float(point))\n",
        "          if (len(usePoints) == 30000):\n",
        "            \n",
        "            result = []\n",
        "            result.append(np.min(usePoints))\n",
        "            result.append(np.mean(usePoints))\n",
        "            result.append(np.max(usePoints))\n",
        "            \n",
        "            result.append(1)\n",
        "            #print(result)\n",
        "            writer.writerow({'Min': result[0], 'Med': result[1], 'Max': result[2], 'Class': result[3]})\n",
        "            usePoints = []\n",
        "            \n"
      ],
      "execution_count": null,
      "outputs": []
    }
  ]
}